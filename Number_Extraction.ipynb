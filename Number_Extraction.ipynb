{
 "cells": [
  {
   "cell_type": "code",
   "execution_count": 1,
   "metadata": {},
   "outputs": [],
   "source": [
    "# Imports\n",
    "import cv2\n",
    "import numpy as np\n",
    "import os\n",
    "\n",
    "import sys\n",
    "assert sys.version_info >= (3, 5)\n",
    "import sklearn\n",
    "assert sklearn.__version__ >= \"0.20\"\n",
    "\n",
    "np.random.seed(42)\n",
    "\n",
    "# To plot pretty figures\n",
    "%matplotlib inline\n",
    "import matplotlib as mpl\n",
    "import matplotlib.pyplot as plt\n",
    "mpl.rc('axes', labelsize=14)\n",
    "mpl.rc('xtick', labelsize=12)\n",
    "mpl.rc('ytick', labelsize=12)\n",
    "\n",
    "# OPTIONS:\n",
    "save_debug_images=0\n",
    "view_debug_images=0"
   ]
  },
  {
   "cell_type": "markdown",
   "metadata": {},
   "source": [
    "# Part 1: Cropping out the handwritten numbers:"
   ]
  },
  {
   "cell_type": "code",
   "execution_count": 2,
   "metadata": {},
   "outputs": [
    {
     "name": "stdout",
     "output_type": "stream",
     "text": [
      "'Extraction_assignment.png' is ready to be processed.\n"
     ]
    }
   ],
   "source": [
    "#Setup Directories:\n",
    "cropped_dir = os.path.join(os.getcwd(),\"cropped/\")\n",
    "mnist_dir = os.path.join(os.getcwd(),\"mnist/\")\n",
    "debug_dir = os.path.join(os.getcwd(),\"debug/\")\n",
    "\n",
    "# Find image file:\n",
    "name_of_image=[]\n",
    "directory = os.listdir()\n",
    "\n",
    "for file in directory:\n",
    "    if file.endswith((\".png\",\"jpg\")):\n",
    "        name_of_image.append(file)\n",
    "        \n",
    "if len(name_of_image)>1:\n",
    "    print(\"Please keep only one image file in current directory.\")\n",
    "elif len(name_of_image)==0:\n",
    "    print(\"No image files found in current directory.\")\n",
    "else:\n",
    "    print(\"'{}' is ready to be processed.\".format(name_of_image[0]))"
   ]
  },
  {
   "cell_type": "code",
   "execution_count": 3,
   "metadata": {},
   "outputs": [
    {
     "data": {
      "text/plain": [
       "'/home/joel/JupyterProjects/Form-Processing/Extraction_assignment.png'"
      ]
     },
     "execution_count": 3,
     "metadata": {},
     "output_type": "execute_result"
    }
   ],
   "source": [
    "# Specify image location:\n",
    "img_loc = os.path.join(os.getcwd(), name_of_image[0])\n",
    "img_loc"
   ]
  },
  {
   "cell_type": "code",
   "execution_count": 4,
   "metadata": {},
   "outputs": [],
   "source": [
    "# Read the original image:\n",
    "img = cv2.imread(img_loc,0)\n",
    "\n",
    "# View the original image:\n",
    "if view_debug_images==1:\n",
    "    cv2.imshow(\"Original Image\",img)\n",
    "    cv2.waitKey(0)\n",
    "    cv2.destroyAllWindows()\n",
    "    \n",
    "# Save the original image:\n",
    "if save_debug_images==1:\n",
    "    cv2.imwrite(debug_dir+'Original_Image.png', img)"
   ]
  },
  {
   "cell_type": "code",
   "execution_count": 5,
   "metadata": {},
   "outputs": [],
   "source": [
    "# Threshold and invert the image:\n",
    "thresh, img_inv = cv2.threshold(img,127,255,cv2.THRESH_BINARY_INV)\n",
    "\n",
    "# View the inverted image:\n",
    "if view_debug_images==1:\n",
    "    cv2.imshow(\"Inverted Image\",img_inv)\n",
    "    cv2.waitKey(0)\n",
    "    cv2.destroyAllWindows()\n",
    "    \n",
    "# Save the inverted image:\n",
    "if save_debug_images==1:\n",
    "    cv2.imwrite(debug_dir+'Inverted_Image.png', img_inv)"
   ]
  },
  {
   "cell_type": "code",
   "execution_count": 6,
   "metadata": {},
   "outputs": [],
   "source": [
    "# Defining kernel lengths:\n",
    "vkernel_length = np.array(img).shape[1]//75\n",
    "hkernel_length = np.array(img).shape[0]//75\n",
    "\n",
    "# Defining kernels:\n",
    "vertical_kernel = cv2.getStructuringElement(cv2.MORPH_RECT, (1,vkernel_length))\n",
    "horizontal_kernel = cv2.getStructuringElement(cv2.MORPH_RECT, (hkernel_length,1))\n",
    "square_kernel = cv2.getStructuringElement(cv2.MORPH_RECT, (3,3))"
   ]
  },
  {
   "cell_type": "code",
   "execution_count": 7,
   "metadata": {},
   "outputs": [],
   "source": [
    "# Detect vertical lines:\n",
    "img_verode = cv2.erode(img_inv, vertical_kernel, iterations=2)\n",
    "temp = cv2.dilate(img_verode, vertical_kernel, iterations=4)\n",
    "vertical_img = cv2.dilate(temp, square_kernel, iterations=1)\n",
    "\n",
    "# View the vertical lines only:\n",
    "if view_debug_images==1:\n",
    "    cv2.imshow(\"Vertical Lines Only\", vertical_img)\n",
    "    cv2.waitKey(0)\n",
    "    cv2.destroyAllWindows()\n",
    "    \n",
    "# Save the vertical lines only:\n",
    "if save_debug_images==1:\n",
    "    cv2.imwrite(debug_dir+'Vertical_Lines_Only.png', vertical_img)"
   ]
  },
  {
   "cell_type": "code",
   "execution_count": 8,
   "metadata": {},
   "outputs": [],
   "source": [
    "# Detect horizontal lines:\n",
    "img_herode = cv2.erode(img_inv, horizontal_kernel, iterations=2)\n",
    "temp = cv2.dilate(img_herode, horizontal_kernel, iterations=4)\n",
    "temp = cv2.dilate(temp, square_kernel, iterations=1)\n",
    "\n",
    "# Delete smaller horizontal lines:\n",
    "temp = cv2.erode(temp, horizontal_kernel, iterations=30)\n",
    "horizontal_img = cv2.dilate(temp, horizontal_kernel, iterations=30)\n",
    "\n",
    "# View the horizontal lines only:\n",
    "if view_debug_images==1:\n",
    "    cv2.imshow(\"Horizontal Lines Only\", horizontal_img)\n",
    "    cv2.waitKey(0)\n",
    "    cv2.destroyAllWindows()\n",
    "    \n",
    "# Save the horizontal lines only:\n",
    "if save_debug_images==1:\n",
    "    cv2.imwrite(debug_dir+'Horizontal_Lines_Only.png', horizontal_img)"
   ]
  },
  {
   "cell_type": "code",
   "execution_count": 9,
   "metadata": {},
   "outputs": [],
   "source": [
    "# Add vertical_img and horizontal_img:\n",
    "img_final = cv2.addWeighted(vertical_img, 0.5, horizontal_img, 0.5, 0)\n",
    "thresh, img_final = cv2.threshold(img_final,127,255, cv2.THRESH_BINARY)\n",
    "\n",
    "# View all lines in image:\n",
    "if view_debug_images==1:\n",
    "    cv2.imshow(\"Final Image\", img_final)\n",
    "    cv2.waitKey(0)\n",
    "    cv2.destroyAllWindows()\n",
    "    \n",
    "# Save all lines in image:\n",
    "if save_debug_images==1:\n",
    "    cv2.imwrite(debug_dir+'Only_Lines.png', img_final)"
   ]
  },
  {
   "cell_type": "code",
   "execution_count": 10,
   "metadata": {},
   "outputs": [],
   "source": [
    "def sort_contours(contours):\n",
    "    # Initialize the reverse flag and sort index\n",
    "    reverse = False\n",
    "    i = 1\n",
    "    # Construct the list of bounding boxes and sort them from top to bottom\n",
    "    boundingBoxes = [cv2.boundingRect(c) for c in contours]\n",
    "    (contours, boundingBoxes) = zip(*sorted(zip(contours, boundingBoxes),\n",
    "        key=lambda b:b[1][i], reverse=reverse))\n",
    "    # Return the list of sorted contours and bounding boxes\n",
    "    return (contours, boundingBoxes)"
   ]
  },
  {
   "cell_type": "code",
   "execution_count": 11,
   "metadata": {},
   "outputs": [],
   "source": [
    "# Box detection:\n",
    "contours, hierarchy = cv2.findContours(img_final, cv2.RETR_TREE, cv2.CHAIN_APPROX_SIMPLE)\n",
    "\n",
    "# Sort all the boxes:\n",
    "(contours, boundingBoxes) = sort_contours(contours)"
   ]
  },
  {
   "cell_type": "code",
   "execution_count": 12,
   "metadata": {},
   "outputs": [],
   "source": [
    "def label_contour(image, c, i):\n",
    "    # Compute the center of the contour area and draw a circle representing the center\n",
    "    M = cv2.moments(c)\n",
    "    cX = int(M[\"m10\"] / M[\"m00\"])\n",
    "    cY = int(M[\"m01\"] / M[\"m00\"])\n",
    "    # Draw the countour number on the image\n",
    "    cv2.putText(image, \"#{}\".format(i + 1), (cX - 20, cY), cv2.FONT_HERSHEY_SIMPLEX, 0.5, (255, 255, 255), 1)\n",
    "    return image\n",
    "\n",
    "img_copy=img_final.copy()\n",
    "for (i,c) in enumerate (contours):\n",
    "    img_labelled = label_contour(img_copy, c, i)\n",
    "    \n",
    "# View labelled contours:\n",
    "if view_debug_images==1:\n",
    "    cv2.imshow(\"Labelled Contours\", img_labelled)\n",
    "    cv2.waitKey(0)\n",
    "    cv2.destroyAllWindows()\n",
    "    \n",
    "# Save labelled contours:\n",
    "if save_debug_images==1:\n",
    "    cv2.imwrite(debug_dir+'Labelled_Contours.png', img_labelled)"
   ]
  },
  {
   "cell_type": "code",
   "execution_count": 13,
   "metadata": {},
   "outputs": [],
   "source": [
    "# Iniialize params for cropping boxes:\n",
    "index = 0\n",
    "boxsize = np.array(img).shape[1]//10\n",
    "\n",
    "# Crop & save bounding boxes:\n",
    "for c in contours:\n",
    "    x, y, w, h = cv2.boundingRect(c)\n",
    "    if (20<w<boxsize and 20<h<boxsize):\n",
    "        index += 1\n",
    "        new_img = img[y:y+h, x:x+w]\n",
    "        cv2.imwrite(cropped_dir+str(index) + '.png', new_img)"
   ]
  },
  {
   "cell_type": "markdown",
   "metadata": {},
   "source": [
    "# Part 2: Preparing the handwritten digits into MNIST format:"
   ]
  },
  {
   "cell_type": "code",
   "execution_count": 14,
   "metadata": {},
   "outputs": [],
   "source": [
    "mnist_size = 28\n",
    "square_kernel = cv2.getStructuringElement(cv2.MORPH_RECT, (2,2))\n",
    "\n",
    "def mnist_ready(num):\n",
    "    if type(num)==int:\n",
    "        file = \"{}.png\".format(num)\n",
    "        image_path = os.path.join(cropped_dir,file)\n",
    "    else:\n",
    "        file=num\n",
    "        image_path = os.path.join(mnist_dir,file)\n",
    "    # Cropping Edges of Image:\n",
    "    img = cv2.imread(image_path)\n",
    "    y=img.shape[0]//7\n",
    "    x=img.shape[1]//7\n",
    "    thresh, img = cv2.threshold(img, 150, 255, cv2.THRESH_BINARY_INV)\n",
    "    crop_img = img[y:-y,x:-x]\n",
    "    if type(num)==int:\n",
    "        crop_img = cv2.dilate(crop_img, square_kernel, iterations=1)\n",
    "\n",
    "    # Resizing Image:\n",
    "    old_size = crop_img.shape[:2]\n",
    "    ratio = float(mnist_size)/max(old_size)\n",
    "    new_size = tuple([int(x*ratio) for x in old_size])\n",
    "    img_resized = cv2.resize(crop_img, (new_size[1], new_size[0]))\n",
    "\n",
    "    # Adding filler white pixels:\n",
    "    delta_w = mnist_size - new_size[1]\n",
    "    delta_h = mnist_size - new_size[0]\n",
    "    top, bottom = delta_h//2, delta_h-(delta_h//2)\n",
    "    left, right = delta_w//2, delta_w-(delta_w//2)\n",
    "    new_img = cv2.copyMakeBorder(img_resized, top, bottom, left, right, cv2.BORDER_CONSTANT, value=[0, 0, 0])\n",
    "    try:\n",
    "        if num<10:\n",
    "            cv2.imwrite(os.path.join(mnist_dir, \"0{}.png\".format(num)), new_img)\n",
    "        else:\n",
    "            cv2.imwrite(os.path.join(mnist_dir, \"{}.png\".format(num)), new_img)\n",
    "    except TypeError:\n",
    "            cv2.imwrite(os.path.join(mnist_dir,file), new_img)"
   ]
  },
  {
   "cell_type": "code",
   "execution_count": 15,
   "metadata": {},
   "outputs": [],
   "source": [
    "# Converting the bounding boxes into images:\n",
    "for file in os.listdir(cropped_dir):\n",
    "    file_number=int(file[:-4])\n",
    "    if file_number%2==1 and file_number<30:\n",
    "        mnist_ready(file_number)\n",
    "    else:\n",
    "        pass"
   ]
  },
  {
   "cell_type": "code",
   "execution_count": 16,
   "metadata": {},
   "outputs": [],
   "source": [
    "from scipy import ndimage\n",
    "def centering(file):\n",
    "    img = cv2.imread(os.path.join(mnist_dir,file),0)\n",
    "    com = ndimage.measurements.center_of_mass(img)\n",
    "\n",
    "    # Translation distances in x and y axis\n",
    "    x_trans = int(img.shape[0]//2-com[0])\n",
    "    y_trans = int(img.shape[1]//2-com[1])\n",
    "    \n",
    "    if x_trans > 0:\n",
    "        im2 = np.pad(img, ((x_trans, 0), (0, 0)), mode='constant')\n",
    "        im2 = im2[:img.shape[0]-x_trans, :]\n",
    "    else:\n",
    "        im2 = np.pad(img, ((0, -x_trans), (0, 0)), mode='constant')\n",
    "        im2 = im2[-x_trans:, :]\n",
    "\n",
    "    if y_trans > 0:\n",
    "        im3 = np.pad(img, ((0, 0), (y_trans, 0)), mode='constant')\n",
    "        im3 = im3[:, :img.shape[0]-y_trans]\n",
    "\n",
    "    else:\n",
    "        im3 = np.pad(img, ((0, 0), (0, -y_trans)), mode='constant')\n",
    "        im3 = im3[:, -y_trans:]\n",
    "        \n",
    "    im3 = cv2.bitwise_not(im3)\n",
    "    cv2.imwrite(os.path.join(mnist_dir,file), im3)"
   ]
  },
  {
   "cell_type": "code",
   "execution_count": 17,
   "metadata": {},
   "outputs": [],
   "source": [
    "# Converting the bounding boxes into images:\n",
    "for file in os.listdir(mnist_dir):\n",
    "    centering(file)\n",
    "    mnist_ready(file)"
   ]
  },
  {
   "cell_type": "markdown",
   "metadata": {},
   "source": [
    "# Part 3: Training a subset of the MNIST Dataset:"
   ]
  },
  {
   "cell_type": "code",
   "execution_count": 18,
   "metadata": {},
   "outputs": [],
   "source": [
    "#Fetching the dataset\n",
    "from sklearn.datasets import fetch_openml\n",
    "mnist = fetch_openml('mnist_784', version=1)"
   ]
  },
  {
   "cell_type": "code",
   "execution_count": 19,
   "metadata": {},
   "outputs": [],
   "source": [
    "# Preparing the dataset:\n",
    "X_full, Y_full = mnist[\"data\"], mnist[\"target\"]\n",
    "Y_full = Y_full.astype(np.uint8)\n",
    "\n",
    "# Removing all targets that aren't 0, 1 or 2:\n",
    "num_filter = np.isin(Y_full, [0,1,2])\n",
    "X_subset, Y_subset = X_full[num_filter], Y_full[num_filter]\n",
    "X_train, X_test, Y_train, Y_test = X_subset[:15000], X_subset[15000:], Y_subset[:15000], Y_subset[15000:]"
   ]
  },
  {
   "cell_type": "code",
   "execution_count": 20,
   "metadata": {},
   "outputs": [],
   "source": [
    "# Setting up an SGD Classifier:\n",
    "from sklearn.linear_model import SGDClassifier\n",
    "sgd_clf = SGDClassifier(max_iter=1000, tol=1e-3, random_state=42)"
   ]
  },
  {
   "cell_type": "code",
   "execution_count": 21,
   "metadata": {
    "scrolled": true
   },
   "outputs": [
    {
     "data": {
      "text/plain": [
       "array([0.9796, 0.9854, 0.9826])"
      ]
     },
     "execution_count": 21,
     "metadata": {},
     "output_type": "execute_result"
    }
   ],
   "source": [
    "# Validation Score:\n",
    "from sklearn.model_selection import cross_val_score\n",
    "cross_val_score(sgd_clf, X_train, Y_train, cv=3, scoring=\"accuracy\")"
   ]
  },
  {
   "cell_type": "code",
   "execution_count": 22,
   "metadata": {},
   "outputs": [
    {
     "data": {
      "text/plain": [
       "SGDClassifier(random_state=42)"
      ]
     },
     "execution_count": 22,
     "metadata": {},
     "output_type": "execute_result"
    }
   ],
   "source": [
    "# Fitting the model to the training data:\n",
    "sgd_clf.fit(X_train, Y_train)"
   ]
  },
  {
   "cell_type": "code",
   "execution_count": 23,
   "metadata": {
    "scrolled": true
   },
   "outputs": [
    {
     "data": {
      "text/plain": [
       "array([[2129,    7,   28],\n",
       "       [   3, 2380,    8],\n",
       "       [  21,   55, 2139]])"
      ]
     },
     "execution_count": 23,
     "metadata": {},
     "output_type": "execute_result"
    }
   ],
   "source": [
    "# Creating confusion matrix for evaluating test data:\n",
    "from sklearn.metrics import confusion_matrix\n",
    "Y_pred = sgd_clf.predict(X_test)\n",
    "confusion_matrix(Y_test, Y_pred)"
   ]
  },
  {
   "cell_type": "code",
   "execution_count": 24,
   "metadata": {},
   "outputs": [
    {
     "data": {
      "text/plain": [
       "0.9819793205317577"
      ]
     },
     "execution_count": 24,
     "metadata": {},
     "output_type": "execute_result"
    }
   ],
   "source": [
    "# Scoring on test data:\n",
    "sgd_clf.score(X_test,Y_test)"
   ]
  },
  {
   "cell_type": "markdown",
   "metadata": {},
   "source": [
    "# Part 4: Inputting Handwritten Data into model"
   ]
  },
  {
   "cell_type": "code",
   "execution_count": 25,
   "metadata": {},
   "outputs": [],
   "source": [
    "# List of images:\n",
    "mnist_folder = os.path.join(os.getcwd(),\"mnist/\")\n",
    "form_numbers=[]\n",
    "for file in sorted(os.listdir(mnist_folder)):\n",
    "    img = cv2.imread(os.path.join(mnist_folder,file),0)\n",
    "    flat_list = [item for sublist in img for item in sublist]\n",
    "    form_numbers.append(flat_list)\n",
    "    \n",
    "# Converting list to numpy array:\n",
    "form_numbers=np.array(form_numbers)"
   ]
  },
  {
   "cell_type": "code",
   "execution_count": 26,
   "metadata": {},
   "outputs": [],
   "source": [
    "def plot_digits(instances, images_per_row=10, **options):\n",
    "    size = 28\n",
    "    images_per_row = min(len(instances), images_per_row)\n",
    "    images = [instance.reshape(size,size) for instance in instances]\n",
    "    n_rows = (len(instances) - 1) // images_per_row + 1\n",
    "    row_images = []\n",
    "    n_empty = n_rows * images_per_row - len(instances)\n",
    "    images.append(np.zeros((size, size * n_empty)))\n",
    "    for row in range(n_rows):\n",
    "        rimages = images[row * images_per_row : (row + 1) * images_per_row]\n",
    "        row_images.append(np.concatenate(rimages, axis=1))\n",
    "    image = np.concatenate(row_images, axis=0)\n",
    "    plt.imshow(image, cmap = mpl.cm.binary, **options)\n",
    "    plt.axis(\"off\")"
   ]
  },
  {
   "cell_type": "code",
   "execution_count": 27,
   "metadata": {},
   "outputs": [
    {
     "data": {
      "image/png": "[encoded data removed]",
      "text/plain": [
       "<Figure size 360x216 with 1 Axes>"
      ]
     },
     "metadata": {
      "needs_background": "light"
     },
     "output_type": "display_data"
    }
   ],
   "source": [
    "plt.figure(figsize=(5,3))\n",
    "example_images = form_numbers\n",
    "plot_digits(example_images, images_per_row=5)\n",
    "plt.show()"
   ]
  },
  {
   "cell_type": "code",
   "execution_count": 28,
   "metadata": {
    "scrolled": true
   },
   "outputs": [
    {
     "data": {
      "text/plain": [
       "array([[10,  0,  2],\n",
       "       [ 0,  1,  0],\n",
       "       [ 0,  0,  2]])"
      ]
     },
     "execution_count": 28,
     "metadata": {},
     "output_type": "execute_result"
    }
   ],
   "source": [
    "Actual=np.array([2, 0, 0, 0, 2, 0, 1, 0, 0, 0, 0, 0, 0, 0, 0])\n",
    "\n",
    "# Creating confusion matrix for evaluating test data:\n",
    "from sklearn.metrics import confusion_matrix\n",
    "Prediction = sgd_clf.predict(form_numbers)\n",
    "confusion_matrix(Actual, Prediction)"
   ]
  },
  {
   "cell_type": "code",
   "execution_count": 29,
   "metadata": {
    "scrolled": true
   },
   "outputs": [
    {
     "name": "stdout",
     "output_type": "stream",
     "text": [
      "This notebook has correctly identified 87% of digits\n",
      "Predicted Numbers = [2 0 2 0 2 0 1 0 0 2 0 0 0 0 0]\n",
      "Actual Numbers    = [2 0 0 0 2 0 1 0 0 0 0 0 0 0 0]\n"
     ]
    }
   ],
   "source": [
    "accuracy=sgd_clf.score(form_numbers,Actual)*100\n",
    "print(\"This notebook has correctly identified {}% of digits\".format(round(accuracy)))\n",
    "print(\"Predicted Numbers =\",Prediction)\n",
    "print(\"Actual Numbers    =\",Actual)"
   ]
  }
 ],
 "metadata": {
  "kernelspec": {
   "display_name": "Python 3",
   "language": "python",
   "name": "python3"
  },
  "language_info": {
   "codemirror_mode": {
    "name": "ipython",
    "version": 3
   },
   "file_extension": ".py",
   "mimetype": "text/x-python",
   "name": "python",
   "nbconvert_exporter": "python",
   "pygments_lexer": "ipython3",
   "version": "3.8.5"
  }
 },
 "nbformat": 4,
 "nbformat_minor": 4
}
